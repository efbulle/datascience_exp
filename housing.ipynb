{
 "cells": [
  {
   "cell_type": "markdown",
   "metadata": {},
   "source": [
    "# House Prices data from Kaggle\n",
    "\n",
    "Based on [housing data from Kaggle](https://www.kaggle.com/c/house-prices-advanced-regression-techniques) and the great O'Reilly book [Hands-On Machine Learning with Scikit-Learn and TensorFlow](http://shop.oreilly.com/product/0636920052289.do) from Aurélien Géron, with its [detailed examples](https://github.com/ageron/handson-ml).\n",
    "\n",
    "*Todo* improve with steps from [tutorials in Kaggle](https://www.kaggle.com/c/house-prices-advanced-regression-techniques#tutorials)."
   ]
  },
  {
   "cell_type": "code",
   "execution_count": 1,
   "metadata": {},
   "outputs": [],
   "source": [
    "import re\n",
    "import numpy as np\n",
    "from pathlib import Path \n",
    "import pandas as pd\n",
    "from pandas.api.types import CategoricalDtype\n",
    "from sklearn.model_selection import train_test_split\n",
    "from sklearn.linear_model import LinearRegression\n",
    "from sklearn.pipeline import Pipeline, FeatureUnion, make_pipeline\n",
    "from sklearn.base import BaseEstimator, TransformerMixin\n",
    "from sklearn.preprocessing import Imputer, OneHotEncoder\n",
    "%matplotlib inline"
   ]
  },
  {
   "cell_type": "code",
   "execution_count": 2,
   "metadata": {},
   "outputs": [
    {
     "data": {
      "text/plain": [
       "((1460, 81), (1459, 80))"
      ]
     },
     "execution_count": 2,
     "metadata": {},
     "output_type": "execute_result"
    }
   ],
   "source": [
    "HOUSING_DATA_PATH = Path(\"datasets/housing\")\n",
    "\n",
    "def load_housing_data(path=HOUSING_DATA_PATH):\n",
    "    for name in (\"train\", \"test\"):\n",
    "        csv_path = path / f\"{name}.csv\"\n",
    "        yield pd.read_csv(csv_path)\n",
    "\n",
    "train, test = load_housing_data()\n",
    "train.shape, test.shape"
   ]
  },
  {
   "cell_type": "code",
   "execution_count": 3,
   "metadata": {},
   "outputs": [
    {
     "data": {
      "text/html": [
       "<div>\n",
       "<style scoped>\n",
       "    .dataframe tbody tr th:only-of-type {\n",
       "        vertical-align: middle;\n",
       "    }\n",
       "\n",
       "    .dataframe tbody tr th {\n",
       "        vertical-align: top;\n",
       "    }\n",
       "\n",
       "    .dataframe thead th {\n",
       "        text-align: right;\n",
       "    }\n",
       "</style>\n",
       "<table border=\"1\" class=\"dataframe\">\n",
       "  <thead>\n",
       "    <tr style=\"text-align: right;\">\n",
       "      <th></th>\n",
       "      <th>Id</th>\n",
       "      <th>MSSubClass</th>\n",
       "      <th>MSZoning</th>\n",
       "      <th>LotFrontage</th>\n",
       "      <th>LotArea</th>\n",
       "      <th>Street</th>\n",
       "      <th>Alley</th>\n",
       "      <th>LotShape</th>\n",
       "      <th>LandContour</th>\n",
       "      <th>Utilities</th>\n",
       "      <th>...</th>\n",
       "      <th>PoolArea</th>\n",
       "      <th>PoolQC</th>\n",
       "      <th>Fence</th>\n",
       "      <th>MiscFeature</th>\n",
       "      <th>MiscVal</th>\n",
       "      <th>MoSold</th>\n",
       "      <th>YrSold</th>\n",
       "      <th>SaleType</th>\n",
       "      <th>SaleCondition</th>\n",
       "      <th>SalePrice</th>\n",
       "    </tr>\n",
       "  </thead>\n",
       "  <tbody>\n",
       "    <tr>\n",
       "      <th>0</th>\n",
       "      <td>1</td>\n",
       "      <td>60</td>\n",
       "      <td>RL</td>\n",
       "      <td>65.0</td>\n",
       "      <td>8450</td>\n",
       "      <td>Pave</td>\n",
       "      <td>NaN</td>\n",
       "      <td>Reg</td>\n",
       "      <td>Lvl</td>\n",
       "      <td>AllPub</td>\n",
       "      <td>...</td>\n",
       "      <td>0</td>\n",
       "      <td>NaN</td>\n",
       "      <td>NaN</td>\n",
       "      <td>NaN</td>\n",
       "      <td>0</td>\n",
       "      <td>2</td>\n",
       "      <td>2008</td>\n",
       "      <td>WD</td>\n",
       "      <td>Normal</td>\n",
       "      <td>208500</td>\n",
       "    </tr>\n",
       "    <tr>\n",
       "      <th>1</th>\n",
       "      <td>2</td>\n",
       "      <td>20</td>\n",
       "      <td>RL</td>\n",
       "      <td>80.0</td>\n",
       "      <td>9600</td>\n",
       "      <td>Pave</td>\n",
       "      <td>NaN</td>\n",
       "      <td>Reg</td>\n",
       "      <td>Lvl</td>\n",
       "      <td>AllPub</td>\n",
       "      <td>...</td>\n",
       "      <td>0</td>\n",
       "      <td>NaN</td>\n",
       "      <td>NaN</td>\n",
       "      <td>NaN</td>\n",
       "      <td>0</td>\n",
       "      <td>5</td>\n",
       "      <td>2007</td>\n",
       "      <td>WD</td>\n",
       "      <td>Normal</td>\n",
       "      <td>181500</td>\n",
       "    </tr>\n",
       "    <tr>\n",
       "      <th>2</th>\n",
       "      <td>3</td>\n",
       "      <td>60</td>\n",
       "      <td>RL</td>\n",
       "      <td>68.0</td>\n",
       "      <td>11250</td>\n",
       "      <td>Pave</td>\n",
       "      <td>NaN</td>\n",
       "      <td>IR1</td>\n",
       "      <td>Lvl</td>\n",
       "      <td>AllPub</td>\n",
       "      <td>...</td>\n",
       "      <td>0</td>\n",
       "      <td>NaN</td>\n",
       "      <td>NaN</td>\n",
       "      <td>NaN</td>\n",
       "      <td>0</td>\n",
       "      <td>9</td>\n",
       "      <td>2008</td>\n",
       "      <td>WD</td>\n",
       "      <td>Normal</td>\n",
       "      <td>223500</td>\n",
       "    </tr>\n",
       "    <tr>\n",
       "      <th>3</th>\n",
       "      <td>4</td>\n",
       "      <td>70</td>\n",
       "      <td>RL</td>\n",
       "      <td>60.0</td>\n",
       "      <td>9550</td>\n",
       "      <td>Pave</td>\n",
       "      <td>NaN</td>\n",
       "      <td>IR1</td>\n",
       "      <td>Lvl</td>\n",
       "      <td>AllPub</td>\n",
       "      <td>...</td>\n",
       "      <td>0</td>\n",
       "      <td>NaN</td>\n",
       "      <td>NaN</td>\n",
       "      <td>NaN</td>\n",
       "      <td>0</td>\n",
       "      <td>2</td>\n",
       "      <td>2006</td>\n",
       "      <td>WD</td>\n",
       "      <td>Abnorml</td>\n",
       "      <td>140000</td>\n",
       "    </tr>\n",
       "    <tr>\n",
       "      <th>4</th>\n",
       "      <td>5</td>\n",
       "      <td>60</td>\n",
       "      <td>RL</td>\n",
       "      <td>84.0</td>\n",
       "      <td>14260</td>\n",
       "      <td>Pave</td>\n",
       "      <td>NaN</td>\n",
       "      <td>IR1</td>\n",
       "      <td>Lvl</td>\n",
       "      <td>AllPub</td>\n",
       "      <td>...</td>\n",
       "      <td>0</td>\n",
       "      <td>NaN</td>\n",
       "      <td>NaN</td>\n",
       "      <td>NaN</td>\n",
       "      <td>0</td>\n",
       "      <td>12</td>\n",
       "      <td>2008</td>\n",
       "      <td>WD</td>\n",
       "      <td>Normal</td>\n",
       "      <td>250000</td>\n",
       "    </tr>\n",
       "  </tbody>\n",
       "</table>\n",
       "<p>5 rows × 81 columns</p>\n",
       "</div>"
      ],
      "text/plain": [
       "   Id  MSSubClass MSZoning  LotFrontage  LotArea Street Alley LotShape  \\\n",
       "0   1          60       RL         65.0     8450   Pave   NaN      Reg   \n",
       "1   2          20       RL         80.0     9600   Pave   NaN      Reg   \n",
       "2   3          60       RL         68.0    11250   Pave   NaN      IR1   \n",
       "3   4          70       RL         60.0     9550   Pave   NaN      IR1   \n",
       "4   5          60       RL         84.0    14260   Pave   NaN      IR1   \n",
       "\n",
       "  LandContour Utilities    ...     PoolArea PoolQC Fence MiscFeature MiscVal  \\\n",
       "0         Lvl    AllPub    ...            0    NaN   NaN         NaN       0   \n",
       "1         Lvl    AllPub    ...            0    NaN   NaN         NaN       0   \n",
       "2         Lvl    AllPub    ...            0    NaN   NaN         NaN       0   \n",
       "3         Lvl    AllPub    ...            0    NaN   NaN         NaN       0   \n",
       "4         Lvl    AllPub    ...            0    NaN   NaN         NaN       0   \n",
       "\n",
       "  MoSold YrSold  SaleType  SaleCondition  SalePrice  \n",
       "0      2   2008        WD         Normal     208500  \n",
       "1      5   2007        WD         Normal     181500  \n",
       "2      9   2008        WD         Normal     223500  \n",
       "3      2   2006        WD        Abnorml     140000  \n",
       "4     12   2008        WD         Normal     250000  \n",
       "\n",
       "[5 rows x 81 columns]"
      ]
     },
     "execution_count": 3,
     "metadata": {},
     "output_type": "execute_result"
    }
   ],
   "source": [
    "train.head()"
   ]
  },
  {
   "cell_type": "code",
   "execution_count": 4,
   "metadata": {},
   "outputs": [
    {
     "name": "stdout",
     "output_type": "stream",
     "text": [
      "<class 'pandas.core.frame.DataFrame'>\n",
      "RangeIndex: 1460 entries, 0 to 1459\n",
      "Data columns (total 81 columns):\n",
      "Id               1460 non-null int64\n",
      "MSSubClass       1460 non-null int64\n",
      "MSZoning         1460 non-null object\n",
      "LotFrontage      1201 non-null float64\n",
      "LotArea          1460 non-null int64\n",
      "Street           1460 non-null object\n",
      "Alley            91 non-null object\n",
      "LotShape         1460 non-null object\n",
      "LandContour      1460 non-null object\n",
      "Utilities        1460 non-null object\n",
      "LotConfig        1460 non-null object\n",
      "LandSlope        1460 non-null object\n",
      "Neighborhood     1460 non-null object\n",
      "Condition1       1460 non-null object\n",
      "Condition2       1460 non-null object\n",
      "BldgType         1460 non-null object\n",
      "HouseStyle       1460 non-null object\n",
      "OverallQual      1460 non-null int64\n",
      "OverallCond      1460 non-null int64\n",
      "YearBuilt        1460 non-null int64\n",
      "YearRemodAdd     1460 non-null int64\n",
      "RoofStyle        1460 non-null object\n",
      "RoofMatl         1460 non-null object\n",
      "Exterior1st      1460 non-null object\n",
      "Exterior2nd      1460 non-null object\n",
      "MasVnrType       1452 non-null object\n",
      "MasVnrArea       1452 non-null float64\n",
      "ExterQual        1460 non-null object\n",
      "ExterCond        1460 non-null object\n",
      "Foundation       1460 non-null object\n",
      "BsmtQual         1423 non-null object\n",
      "BsmtCond         1423 non-null object\n",
      "BsmtExposure     1422 non-null object\n",
      "BsmtFinType1     1423 non-null object\n",
      "BsmtFinSF1       1460 non-null int64\n",
      "BsmtFinType2     1422 non-null object\n",
      "BsmtFinSF2       1460 non-null int64\n",
      "BsmtUnfSF        1460 non-null int64\n",
      "TotalBsmtSF      1460 non-null int64\n",
      "Heating          1460 non-null object\n",
      "HeatingQC        1460 non-null object\n",
      "CentralAir       1460 non-null object\n",
      "Electrical       1459 non-null object\n",
      "1stFlrSF         1460 non-null int64\n",
      "2ndFlrSF         1460 non-null int64\n",
      "LowQualFinSF     1460 non-null int64\n",
      "GrLivArea        1460 non-null int64\n",
      "BsmtFullBath     1460 non-null int64\n",
      "BsmtHalfBath     1460 non-null int64\n",
      "FullBath         1460 non-null int64\n",
      "HalfBath         1460 non-null int64\n",
      "BedroomAbvGr     1460 non-null int64\n",
      "KitchenAbvGr     1460 non-null int64\n",
      "KitchenQual      1460 non-null object\n",
      "TotRmsAbvGrd     1460 non-null int64\n",
      "Functional       1460 non-null object\n",
      "Fireplaces       1460 non-null int64\n",
      "FireplaceQu      770 non-null object\n",
      "GarageType       1379 non-null object\n",
      "GarageYrBlt      1379 non-null float64\n",
      "GarageFinish     1379 non-null object\n",
      "GarageCars       1460 non-null int64\n",
      "GarageArea       1460 non-null int64\n",
      "GarageQual       1379 non-null object\n",
      "GarageCond       1379 non-null object\n",
      "PavedDrive       1460 non-null object\n",
      "WoodDeckSF       1460 non-null int64\n",
      "OpenPorchSF      1460 non-null int64\n",
      "EnclosedPorch    1460 non-null int64\n",
      "3SsnPorch        1460 non-null int64\n",
      "ScreenPorch      1460 non-null int64\n",
      "PoolArea         1460 non-null int64\n",
      "PoolQC           7 non-null object\n",
      "Fence            281 non-null object\n",
      "MiscFeature      54 non-null object\n",
      "MiscVal          1460 non-null int64\n",
      "MoSold           1460 non-null int64\n",
      "YrSold           1460 non-null int64\n",
      "SaleType         1460 non-null object\n",
      "SaleCondition    1460 non-null object\n",
      "SalePrice        1460 non-null int64\n",
      "dtypes: float64(3), int64(35), object(43)\n",
      "memory usage: 924.0+ KB\n"
     ]
    }
   ],
   "source": [
    "train.info()"
   ]
  },
  {
   "cell_type": "markdown",
   "metadata": {},
   "source": [
    "Variables definitions without categories."
   ]
  },
  {
   "cell_type": "code",
   "execution_count": 5,
   "metadata": {},
   "outputs": [
    {
     "name": "stdout",
     "output_type": "stream",
     "text": [
      "MSSubClass: Identifies the type of dwelling involved in the sale.\t\n",
      "MSZoning: Identifies the general zoning classification of the sale.\n",
      "LotFrontage: Linear feet of street connected to property\n",
      "LotArea: Lot size in square feet\n",
      "Street: Type of road access to property\n",
      "Alley: Type of alley access to property\n",
      "LotShape: General shape of property\n",
      "LandContour: Flatness of the property\n",
      "Utilities: Type of utilities available\n",
      "LotConfig: Lot configuration\n",
      "LandSlope: Slope of property\n",
      "Neighborhood: Physical locations within Ames city limits\n",
      "Condition1: Proximity to various conditions\n",
      "Condition2: Proximity to various conditions (if more than one is present)\n",
      "BldgType: Type of dwelling\n",
      "HouseStyle: Style of dwelling\n",
      "OverallQual: Rates the overall material and finish of the house\n",
      "OverallCond: Rates the overall condition of the house\n",
      "YearBuilt: Original construction date\n",
      "YearRemodAdd: Remodel date (same as construction date if no remodeling or additions)\n",
      "RoofStyle: Type of roof\n",
      "RoofMatl: Roof material\n",
      "Exterior1st: Exterior covering on house\n",
      "Exterior2nd: Exterior covering on house (if more than one material)\n",
      "MasVnrType: Masonry veneer type\n",
      "MasVnrArea: Masonry veneer area in square feet\n",
      "ExterQual: Evaluates the quality of the material on the exterior \n",
      "ExterCond: Evaluates the present condition of the material on the exterior\n",
      "Foundation: Type of foundation\n",
      "BsmtQual: Evaluates the height of the basement\n",
      "BsmtCond: Evaluates the general condition of the basement\n",
      "BsmtExposure: Refers to walkout or garden level walls\n",
      "BsmtFinType1: Rating of basement finished area\n",
      "BsmtFinSF1: Type 1 finished square feet\n",
      "BsmtFinType2: Rating of basement finished area (if multiple types)\n",
      "BsmtFinSF2: Type 2 finished square feet\n",
      "BsmtUnfSF: Unfinished square feet of basement area\n",
      "TotalBsmtSF: Total square feet of basement area\n",
      "Heating: Type of heating\n",
      "HeatingQC: Heating quality and condition\n",
      "CentralAir: Central air conditioning\n",
      "Electrical: Electrical system\n",
      "1stFlrSF: First Floor square feet\n",
      "2ndFlrSF: Second floor square feet\n",
      "LowQualFinSF: Low quality finished square feet (all floors)\n",
      "GrLivArea: Above grade (ground) living area square feet\n",
      "BsmtFullBath: Basement full bathrooms\n",
      "BsmtHalfBath: Basement half bathrooms\n",
      "FullBath: Full bathrooms above grade\n",
      "HalfBath: Half baths above grade\n",
      "Bedroom: Bedrooms above grade (does NOT include basement bedrooms)\n",
      "Kitchen: Kitchens above grade\n",
      "KitchenQual: Kitchen quality\n",
      "TotRmsAbvGrd: Total rooms above grade (does not include bathrooms)\n",
      "Functional: Home functionality (Assume typical unless deductions are warranted)\n",
      "Fireplaces: Number of fireplaces\n",
      "FireplaceQu: Fireplace quality\n",
      "GarageType: Garage location\n",
      "GarageYrBlt: Year garage was built\n",
      "GarageFinish: Interior finish of the garage\n",
      "GarageCars: Size of garage in car capacity\n",
      "GarageArea: Size of garage in square feet\n",
      "GarageQual: Garage quality\n",
      "GarageCond: Garage condition\n",
      "PavedDrive: Paved driveway\n",
      "WoodDeckSF: Wood deck area in square feet\n",
      "OpenPorchSF: Open porch area in square feet\n",
      "EnclosedPorch: Enclosed porch area in square feet\n",
      "3SsnPorch: Three season porch area in square feet\n",
      "ScreenPorch: Screen porch area in square feet\n",
      "PoolArea: Pool area in square feet\n",
      "PoolQC: Pool quality\n",
      "Fence: Fence quality\n",
      "MiscFeature: Miscellaneous feature not covered in other categories\n",
      "MiscVal: $Value of miscellaneous feature\n",
      "MoSold: Month Sold (MM)\n",
      "YrSold: Year Sold (YYYY)\n",
      "SaleType: Type of sale\n",
      "SaleCondition: Condition of sale\n",
      "\n"
     ]
    }
   ],
   "source": [
    "with open(HOUSING_DATA_PATH / \"data_description.txt\") as f:\n",
    "    print(''.join(line for line in f if not line[0].isspace()))"
   ]
  },
  {
   "cell_type": "markdown",
   "metadata": {},
   "source": [
    "# Data cleaning\n",
    "\n",
    "Extract categories from data description in [Kaggle](https://www.kaggle.com/c/house-prices-advanced-regression-techniques/data)."
   ]
  },
  {
   "cell_type": "code",
   "execution_count": 6,
   "metadata": {},
   "outputs": [],
   "source": [
    "def removeNA(v):\n",
    "    \"\"\"Remove NA from categories, always in last position.\"\"\"\n",
    "    return v[:-1] if v[-1] == 'NA' else v\n",
    "\n",
    "def extract_cat(descr_string):\n",
    "    \"\"\"Extract categories, except NA, from data_description.\"\"\"\n",
    "    categories = {m.group(1): re.findall(r'([a-zA-Z0-9.]+).+$', m.group(2), re.MULTILINE)\n",
    "              for m in re.finditer(r'^(\\w+).*\\n[ \\t]*\\n((?:[ \\t]+.+\\n)+)', descr_string, re.MULTILINE)}\n",
    "    return {c: CategoricalDtype(categories=removeNA(v), ordered=True) for (c, v) in categories.items()}\n",
    "    \n",
    "\n",
    "class Categorizer(BaseEstimator, TransformerMixin):\n",
    "    \"\"\"Cast to pandas categories after correcting values.\"\"\"\n",
    "    def __init__(self, replace_dict=None, catcols_dict=None):\n",
    "        self.replace_dict = replace_dict if not replace_dict else {}\n",
    "        if catcols_dict:\n",
    "            self.catcols_dict = catcols_dict\n",
    "        else:\n",
    "            with open(HOUSING_DATA_PATH / \"data_description.txt\") as f:\n",
    "                self.catcols_dict = extract_cat(f.read())\n",
    "        \n",
    "    def fit(self, X, y=None):\n",
    "        return self\n",
    "    \n",
    "    def transform(self, X):\n",
    "        X = (X.replace(self.replace_dict)\n",
    "             .astype(str) # for int64 values\n",
    "             .apply(lambda s: pd.Categorical(s, dtype=self.catcols_dict[s.name])))\n",
    "        return X\n",
    "    \n",
    "categorizer = Categorizer()"
   ]
  },
  {
   "cell_type": "code",
   "execution_count": 7,
   "metadata": {},
   "outputs": [
    {
     "name": "stdout",
     "output_type": "stream",
     "text": [
      "MSZoning: ['C (all)'], ['A', 'C', 'FV', 'I', 'RH', 'RL', 'RP', 'RM']\n",
      "Neighborhood: ['NAmes'], ['Blmngtn', 'Blueste', 'BrDale', 'BrkSide', 'ClearCr', 'CollgCr', 'Crawfor', 'Edwards', 'Gilbert', 'IDOTRR', 'MeadowV', 'Mitchel', 'Names', 'NoRidge', 'NPkVill', 'NridgHt', 'NWAmes', 'OldTown', 'SWISU', 'Sawyer', 'SawyerW', 'Somerst', 'StoneBr', 'Timber', 'Veenker']\n",
      "BldgType: ['2fmCon', 'Duplex', 'Twnhs'], ['1Fam', '2FmCon', 'Duplx', 'TwnhsE', 'TwnhsI']\n",
      "RoofMatl: ['Tar&Grv'], ['ClyTile', 'CompShg', 'Membran', 'Metal', 'Roll', 'Tar', 'WdShake', 'WdShngl']\n",
      "Exterior1st: ['Wd Sdng'], ['AsbShng', 'AsphShn', 'BrkComm', 'BrkFace', 'CBlock', 'CemntBd', 'HdBoard', 'ImStucc', 'MetalSd', 'Other', 'Plywood', 'PreCast', 'Stone', 'Stucco', 'VinylSd', 'Wd', 'WdShing']\n",
      "Exterior2nd: ['Brk Cmn', 'CmentBd', 'Wd Sdng', 'Wd Shng'], ['AsbShng', 'AsphShn', 'BrkComm', 'BrkFace', 'CBlock', 'CemntBd', 'HdBoard', 'ImStucc', 'MetalSd', 'Other', 'Plywood', 'PreCast', 'Stone', 'Stucco', 'VinylSd', 'Wd', 'WdShing']\n"
     ]
    },
    {
     "data": {
      "text/plain": [
       "False"
      ]
     },
     "execution_count": 7,
     "metadata": {},
     "output_type": "execute_result"
    }
   ],
   "source": [
    "def no_enc_errors(df):\n",
    "    \"\"\"Find potential encoding errors in DataFrame with respect to data_description.\"\"\"\n",
    "    ok = True\n",
    "    for col in df:\n",
    "        s = df[col]\n",
    "        cat = categorizer.catcols_dict[col].categories\n",
    "        diff = pd.Categorical(s).categories.difference(cat)\n",
    "        if diff.any():\n",
    "            print(f\"{col}: {diff.tolist()}, {cat.tolist()}\".format(col, diff))\n",
    "            ok = False\n",
    "    return ok\n",
    "\n",
    "no_enc_errors(train.select_dtypes(exclude=['int64', 'float64']))"
   ]
  },
  {
   "cell_type": "code",
   "execution_count": 8,
   "metadata": {},
   "outputs": [],
   "source": [
    "fix_catencoding = {'MSZoning': {'C (all)': 'C'},\n",
    "                   'Neighborhood': {'NAmes': 'Names'},\n",
    "                   'BldgType': {'2fmCon': '2FmCon', 'Duplex': 'Duplx', 'Twnhs': 'TwnhsI'},\n",
    "                   'RoofMatl': {'Tar&Grv': 'Tar'},\n",
    "                   'Exterior1st': {'Wd Sdng': 'Wd'},\n",
    "                   'Exterior2nd': {'Brk Cmn': 'BrkComm', 'CmentBd': 'CemntBd', 'Wd Sdng': 'Wd', 'Wd Shng': 'Wd'}\n",
    "                  }"
   ]
  },
  {
   "cell_type": "markdown",
   "metadata": {},
   "source": [
    "Missing values"
   ]
  },
  {
   "cell_type": "code",
   "execution_count": 9,
   "metadata": {},
   "outputs": [],
   "source": [
    "categorizer = Categorizer(replace_dict=fix_catencoding)"
   ]
  },
  {
   "cell_type": "code",
   "execution_count": 10,
   "metadata": {},
   "outputs": [
    {
     "data": {
      "text/html": [
       "<div>\n",
       "<style scoped>\n",
       "    .dataframe tbody tr th:only-of-type {\n",
       "        vertical-align: middle;\n",
       "    }\n",
       "\n",
       "    .dataframe tbody tr th {\n",
       "        vertical-align: top;\n",
       "    }\n",
       "\n",
       "    .dataframe thead th {\n",
       "        text-align: right;\n",
       "    }\n",
       "</style>\n",
       "<table border=\"1\" class=\"dataframe\">\n",
       "  <thead>\n",
       "    <tr style=\"text-align: right;\">\n",
       "      <th></th>\n",
       "      <th>test</th>\n",
       "      <th>train</th>\n",
       "    </tr>\n",
       "  </thead>\n",
       "  <tbody>\n",
       "    <tr>\n",
       "      <th>Alley</th>\n",
       "      <td>1352.0</td>\n",
       "      <td>1369.0</td>\n",
       "    </tr>\n",
       "    <tr>\n",
       "      <th>BsmtCond</th>\n",
       "      <td>45.0</td>\n",
       "      <td>37.0</td>\n",
       "    </tr>\n",
       "    <tr>\n",
       "      <th>BsmtExposure</th>\n",
       "      <td>44.0</td>\n",
       "      <td>38.0</td>\n",
       "    </tr>\n",
       "    <tr>\n",
       "      <th>BsmtFinSF1</th>\n",
       "      <td>1.0</td>\n",
       "      <td>NaN</td>\n",
       "    </tr>\n",
       "    <tr>\n",
       "      <th>BsmtFinSF2</th>\n",
       "      <td>1.0</td>\n",
       "      <td>NaN</td>\n",
       "    </tr>\n",
       "    <tr>\n",
       "      <th>BsmtFinType1</th>\n",
       "      <td>42.0</td>\n",
       "      <td>37.0</td>\n",
       "    </tr>\n",
       "    <tr>\n",
       "      <th>BsmtFinType2</th>\n",
       "      <td>42.0</td>\n",
       "      <td>38.0</td>\n",
       "    </tr>\n",
       "    <tr>\n",
       "      <th>BsmtFullBath</th>\n",
       "      <td>2.0</td>\n",
       "      <td>NaN</td>\n",
       "    </tr>\n",
       "    <tr>\n",
       "      <th>BsmtHalfBath</th>\n",
       "      <td>2.0</td>\n",
       "      <td>NaN</td>\n",
       "    </tr>\n",
       "    <tr>\n",
       "      <th>BsmtQual</th>\n",
       "      <td>44.0</td>\n",
       "      <td>37.0</td>\n",
       "    </tr>\n",
       "    <tr>\n",
       "      <th>BsmtUnfSF</th>\n",
       "      <td>1.0</td>\n",
       "      <td>NaN</td>\n",
       "    </tr>\n",
       "    <tr>\n",
       "      <th>Electrical</th>\n",
       "      <td>NaN</td>\n",
       "      <td>1.0</td>\n",
       "    </tr>\n",
       "    <tr>\n",
       "      <th>Exterior1st</th>\n",
       "      <td>1.0</td>\n",
       "      <td>NaN</td>\n",
       "    </tr>\n",
       "    <tr>\n",
       "      <th>Exterior2nd</th>\n",
       "      <td>1.0</td>\n",
       "      <td>NaN</td>\n",
       "    </tr>\n",
       "    <tr>\n",
       "      <th>Fence</th>\n",
       "      <td>1169.0</td>\n",
       "      <td>1179.0</td>\n",
       "    </tr>\n",
       "    <tr>\n",
       "      <th>FireplaceQu</th>\n",
       "      <td>730.0</td>\n",
       "      <td>690.0</td>\n",
       "    </tr>\n",
       "    <tr>\n",
       "      <th>Functional</th>\n",
       "      <td>2.0</td>\n",
       "      <td>NaN</td>\n",
       "    </tr>\n",
       "    <tr>\n",
       "      <th>GarageArea</th>\n",
       "      <td>1.0</td>\n",
       "      <td>NaN</td>\n",
       "    </tr>\n",
       "    <tr>\n",
       "      <th>GarageCars</th>\n",
       "      <td>1.0</td>\n",
       "      <td>NaN</td>\n",
       "    </tr>\n",
       "    <tr>\n",
       "      <th>GarageCond</th>\n",
       "      <td>78.0</td>\n",
       "      <td>81.0</td>\n",
       "    </tr>\n",
       "    <tr>\n",
       "      <th>GarageFinish</th>\n",
       "      <td>78.0</td>\n",
       "      <td>81.0</td>\n",
       "    </tr>\n",
       "    <tr>\n",
       "      <th>GarageQual</th>\n",
       "      <td>78.0</td>\n",
       "      <td>81.0</td>\n",
       "    </tr>\n",
       "    <tr>\n",
       "      <th>GarageType</th>\n",
       "      <td>76.0</td>\n",
       "      <td>81.0</td>\n",
       "    </tr>\n",
       "    <tr>\n",
       "      <th>GarageYrBlt</th>\n",
       "      <td>78.0</td>\n",
       "      <td>81.0</td>\n",
       "    </tr>\n",
       "    <tr>\n",
       "      <th>KitchenQual</th>\n",
       "      <td>1.0</td>\n",
       "      <td>NaN</td>\n",
       "    </tr>\n",
       "    <tr>\n",
       "      <th>LotFrontage</th>\n",
       "      <td>227.0</td>\n",
       "      <td>259.0</td>\n",
       "    </tr>\n",
       "    <tr>\n",
       "      <th>MSZoning</th>\n",
       "      <td>4.0</td>\n",
       "      <td>NaN</td>\n",
       "    </tr>\n",
       "    <tr>\n",
       "      <th>MasVnrArea</th>\n",
       "      <td>15.0</td>\n",
       "      <td>8.0</td>\n",
       "    </tr>\n",
       "    <tr>\n",
       "      <th>MasVnrType</th>\n",
       "      <td>16.0</td>\n",
       "      <td>8.0</td>\n",
       "    </tr>\n",
       "    <tr>\n",
       "      <th>MiscFeature</th>\n",
       "      <td>1408.0</td>\n",
       "      <td>1406.0</td>\n",
       "    </tr>\n",
       "    <tr>\n",
       "      <th>PoolQC</th>\n",
       "      <td>1456.0</td>\n",
       "      <td>1453.0</td>\n",
       "    </tr>\n",
       "    <tr>\n",
       "      <th>SaleType</th>\n",
       "      <td>1.0</td>\n",
       "      <td>NaN</td>\n",
       "    </tr>\n",
       "    <tr>\n",
       "      <th>TotalBsmtSF</th>\n",
       "      <td>1.0</td>\n",
       "      <td>NaN</td>\n",
       "    </tr>\n",
       "    <tr>\n",
       "      <th>Utilities</th>\n",
       "      <td>2.0</td>\n",
       "      <td>NaN</td>\n",
       "    </tr>\n",
       "  </tbody>\n",
       "</table>\n",
       "</div>"
      ],
      "text/plain": [
       "                test   train\n",
       "Alley         1352.0  1369.0\n",
       "BsmtCond        45.0    37.0\n",
       "BsmtExposure    44.0    38.0\n",
       "BsmtFinSF1       1.0     NaN\n",
       "BsmtFinSF2       1.0     NaN\n",
       "BsmtFinType1    42.0    37.0\n",
       "BsmtFinType2    42.0    38.0\n",
       "BsmtFullBath     2.0     NaN\n",
       "BsmtHalfBath     2.0     NaN\n",
       "BsmtQual        44.0    37.0\n",
       "BsmtUnfSF        1.0     NaN\n",
       "Electrical       NaN     1.0\n",
       "Exterior1st      1.0     NaN\n",
       "Exterior2nd      1.0     NaN\n",
       "Fence         1169.0  1179.0\n",
       "FireplaceQu    730.0   690.0\n",
       "Functional       2.0     NaN\n",
       "GarageArea       1.0     NaN\n",
       "GarageCars       1.0     NaN\n",
       "GarageCond      78.0    81.0\n",
       "GarageFinish    78.0    81.0\n",
       "GarageQual      78.0    81.0\n",
       "GarageType      76.0    81.0\n",
       "GarageYrBlt     78.0    81.0\n",
       "KitchenQual      1.0     NaN\n",
       "LotFrontage    227.0   259.0\n",
       "MSZoning         4.0     NaN\n",
       "MasVnrArea      15.0     8.0\n",
       "MasVnrType      16.0     8.0\n",
       "MiscFeature   1408.0  1406.0\n",
       "PoolQC        1456.0  1453.0\n",
       "SaleType         1.0     NaN\n",
       "TotalBsmtSF      1.0     NaN\n",
       "Utilities        2.0     NaN"
      ]
     },
     "execution_count": 10,
     "metadata": {},
     "output_type": "execute_result"
    }
   ],
   "source": [
    "def missing_frac(df):\n",
    "    m = df.isnull().sum()\n",
    "    return m[m > 0].sort_values(ascending=False)\n",
    "\n",
    "missing = pd.concat({'train': missing_frac(train), 'test': missing_frac(test)}, axis=1)\n",
    "missing_cols = missing.index\n",
    "missing"
   ]
  },
  {
   "cell_type": "code",
   "execution_count": 11,
   "metadata": {},
   "outputs": [],
   "source": [
    "class DFSelector(BaseEstimator, TransformerMixin):\n",
    "    \"\"\"Select columns from DataFrame and return DataFrame.\"\"\"\n",
    "    def __init__(self, cols, dropna=False):\n",
    "        self.cols = cols\n",
    "        self.dropna = dropna\n",
    "        \n",
    "    def fit(self, X, y=None):\n",
    "        return self\n",
    "    \n",
    "    def transform(self, X):\n",
    "        return X[self.cols].dropna(axis=1) if self.dropna else X[self.cols]\n",
    "\n",
    "    \n",
    "class Encoder(BaseEstimator, TransformerMixin):\n",
    "    \"\"\"Encode categories.\"\"\"\n",
    "    def __init__(self, method='onehot'):\n",
    "        self.method = method\n",
    "        \n",
    "    def fit(self, X, y=None):\n",
    "        return self\n",
    "    \n",
    "    def transform(self, X):\n",
    "        return pd.get_dummies(X) if self.method == 'onehot' else X\n",
    "    \n",
    "\n",
    "class CatImputer(BaseEstimator, TransformerMixin):\n",
    "    \"\"\"Imputer missing categorical values in DataFrame.\"\"\"\n",
    "    def __init__(self, strategy='most_frequent'):\n",
    "        self.strategy = strategy\n",
    "        \n",
    "    def fit(self, X, y=None):\n",
    "        return self\n",
    "    \n",
    "    def transform(self, X):\n",
    "        if self.strategy == 'most_frequent':\n",
    "            return X.apply(lambda s: s.fillna(s.value_counts().index[0]))\n",
    "        else:\n",
    "            return X"
   ]
  },
  {
   "cell_type": "markdown",
   "metadata": {},
   "source": [
    "Set aside a test set."
   ]
  },
  {
   "cell_type": "code",
   "execution_count": 12,
   "metadata": {},
   "outputs": [],
   "source": [
    "train_set, test_set = train_test_split(train, test_size=0.2, random_state=42)\n",
    "prices = train_set[\"SalePrice\"]\n",
    "housing = train_set.drop(\"SalePrice\", axis=1)\n",
    "columns = housing.columns"
   ]
  },
  {
   "cell_type": "code",
   "execution_count": 13,
   "metadata": {},
   "outputs": [],
   "source": [
    "cat_cols = list(categorizer.catcols_dict)\n",
    "num_cols = columns.difference(categorizer.catcols_dict)\n",
    "\n",
    "cat_pipeline = Pipeline([('selector', DFSelector(cat_cols)),\n",
    "                         ('categorizer', categorizer),\n",
    "                        ('imputer', CatImputer()),\n",
    "                        ('encoder', Encoder())])\n",
    "num_pipeline = Pipeline([('selector', DFSelector(num_cols)),\n",
    "                        ('imputer', Imputer(strategy='median'))])\n",
    "\n",
    "full_pipeline = FeatureUnion([\n",
    "    ('cat_pipeline', cat_pipeline),\n",
    "    ('num_pipeline', num_pipeline)])"
   ]
  },
  {
   "cell_type": "code",
   "execution_count": 14,
   "metadata": {},
   "outputs": [
    {
     "data": {
      "text/plain": [
       "(1168, 340)"
      ]
     },
     "execution_count": 14,
     "metadata": {},
     "output_type": "execute_result"
    }
   ],
   "source": [
    "housing_prepared = full_pipeline.fit_transform(housing)\n",
    "housing_prepared.shape"
   ]
  },
  {
   "cell_type": "markdown",
   "metadata": {},
   "source": [
    "# Models"
   ]
  },
  {
   "cell_type": "markdown",
   "metadata": {},
   "source": [
    "Target"
   ]
  },
  {
   "cell_type": "code",
   "execution_count": 15,
   "metadata": {},
   "outputs": [
    {
     "data": {
      "text/plain": [
       "254     145000\n",
       "1066    178000\n",
       "638      85000\n",
       "799     175000\n",
       "380     127000\n",
       "Name: SalePrice, dtype: int64"
      ]
     },
     "execution_count": 15,
     "metadata": {},
     "output_type": "execute_result"
    }
   ],
   "source": [
    "prices.head()"
   ]
  },
  {
   "cell_type": "markdown",
   "metadata": {},
   "source": [
    "Price distribution is heavy-tailed, to be transformed with `log`. "
   ]
  },
  {
   "cell_type": "code",
   "execution_count": 16,
   "metadata": {},
   "outputs": [
    {
     "data": {
      "image/png": "[encoded data removed]",
      "text/plain": [
       "<matplotlib.figure.Figure at 0xac1af60>"
      ]
     },
     "metadata": {},
     "output_type": "display_data"
    }
   ],
   "source": [
    "prices.hist(bins=30);"
   ]
  },
  {
   "cell_type": "code",
   "execution_count": 17,
   "metadata": {},
   "outputs": [],
   "source": [
    "from sklearn.ensemble import RandomForestRegressor\n",
    "from sklearn.linear_model import LinearRegression\n",
    "from sklearn.tree import DecisionTreeRegressor\n",
    "from sklearn.model_selection import cross_val_score\n",
    "from sklearn.metrics import mean_squared_error, mean_squared_log_error"
   ]
  },
  {
   "cell_type": "code",
   "execution_count": 18,
   "metadata": {},
   "outputs": [],
   "source": [
    "lin_reg = LinearRegression()\n",
    "tree_reg = DecisionTreeRegressor(random_state=42)\n",
    "forest_reg = RandomForestRegressor(random_state=42)"
   ]
  },
  {
   "cell_type": "code",
   "execution_count": 19,
   "metadata": {},
   "outputs": [
    {
     "data": {
      "text/plain": [
       "array([373760.80515657,  33188.5408567 ,  22639.85624943,  50388.67825115,\n",
       "        63808.78132231,  27698.08391194,  48455.70565128,  21285.78422212,\n",
       "        48874.34142607,  23756.04682059])"
      ]
     },
     "execution_count": 19,
     "metadata": {},
     "output_type": "execute_result"
    }
   ],
   "source": [
    "scores = cross_val_score(lin_reg, housing_prepared, prices,\n",
    "                         scoring=\"neg_mean_squared_error\", cv=10)\n",
    "np.sqrt(-scores)"
   ]
  },
  {
   "cell_type": "code",
   "execution_count": 20,
   "metadata": {},
   "outputs": [
    {
     "data": {
      "text/plain": [
       "(292, 340)"
      ]
     },
     "execution_count": 20,
     "metadata": {},
     "output_type": "execute_result"
    }
   ],
   "source": [
    "prices_test = test_set.SalePrice\n",
    "housing_test = test_set.drop(\"SalePrice\", axis=1)\n",
    "\n",
    "housing_test_trans = full_pipeline.transform(housing_test)\n",
    "housing_test_trans.shape"
   ]
  },
  {
   "cell_type": "code",
   "execution_count": 21,
   "metadata": {},
   "outputs": [
    {
     "name": "stdout",
     "output_type": "stream",
     "text": [
      "linear: 36062.77\n",
      "tree: 40294.25\n",
      "forest: 31935.32\n"
     ]
    }
   ],
   "source": [
    "for name, model in [('linear', lin_reg), ('tree', tree_reg), ('forest', forest_reg)]:\n",
    "    model.fit(housing_prepared, prices)\n",
    "    pred = model.predict(housing_test_trans)\n",
    "    score = np.sqrt(mean_squared_error(pred, prices_test))\n",
    "    print(f'{name}: {score:.2f}')"
   ]
  },
  {
   "cell_type": "code",
   "execution_count": 22,
   "metadata": {},
   "outputs": [
    {
     "name": "stdout",
     "output_type": "stream",
     "text": [
      "linear: 0.22\n",
      "tree: 0.22\n",
      "forest: 0.17\n"
     ]
    }
   ],
   "source": [
    "for name, model in [('linear', lin_reg), ('tree', tree_reg), ('forest', forest_reg)]:\n",
    "    model.fit(housing_prepared, prices)\n",
    "    pred = model.predict(housing_test_trans)\n",
    "    score = np.sqrt(mean_squared_log_error(pred, prices_test))\n",
    "    print(f'{name}: {score:.2f}')"
   ]
  },
  {
   "cell_type": "markdown",
   "metadata": {},
   "source": [
    "# Submission"
   ]
  },
  {
   "cell_type": "code",
   "execution_count": 26,
   "metadata": {},
   "outputs": [
    {
     "data": {
      "text/html": [
       "<div>\n",
       "<style scoped>\n",
       "    .dataframe tbody tr th:only-of-type {\n",
       "        vertical-align: middle;\n",
       "    }\n",
       "\n",
       "    .dataframe tbody tr th {\n",
       "        vertical-align: top;\n",
       "    }\n",
       "\n",
       "    .dataframe thead th {\n",
       "        text-align: right;\n",
       "    }\n",
       "</style>\n",
       "<table border=\"1\" class=\"dataframe\">\n",
       "  <thead>\n",
       "    <tr style=\"text-align: right;\">\n",
       "      <th></th>\n",
       "      <th>Id</th>\n",
       "      <th>SalePrice</th>\n",
       "    </tr>\n",
       "  </thead>\n",
       "  <tbody>\n",
       "    <tr>\n",
       "      <th>0</th>\n",
       "      <td>1461</td>\n",
       "      <td>122465.0</td>\n",
       "    </tr>\n",
       "    <tr>\n",
       "      <th>1</th>\n",
       "      <td>1462</td>\n",
       "      <td>147990.0</td>\n",
       "    </tr>\n",
       "    <tr>\n",
       "      <th>2</th>\n",
       "      <td>1463</td>\n",
       "      <td>176550.0</td>\n",
       "    </tr>\n",
       "    <tr>\n",
       "      <th>3</th>\n",
       "      <td>1464</td>\n",
       "      <td>187087.5</td>\n",
       "    </tr>\n",
       "    <tr>\n",
       "      <th>4</th>\n",
       "      <td>1465</td>\n",
       "      <td>206732.7</td>\n",
       "    </tr>\n",
       "  </tbody>\n",
       "</table>\n",
       "</div>"
      ],
      "text/plain": [
       "     Id  SalePrice\n",
       "0  1461   122465.0\n",
       "1  1462   147990.0\n",
       "2  1463   176550.0\n",
       "3  1464   187087.5\n",
       "4  1465   206732.7"
      ]
     },
     "execution_count": 26,
     "metadata": {},
     "output_type": "execute_result"
    }
   ],
   "source": [
    "pipeline_with_predict = Pipeline([('preparation', full_pipeline),\n",
    "                                 ('forest', RandomForestRegressor())])\n",
    "pipeline_with_predict.fit(housing, prices)\n",
    "results = pd.DataFrame({'Id': test.Id, 'SalePrice': pipeline_with_predict.predict(test)})\n",
    "results.to_csv(HOUSING_DATA_PATH / 'submission.csv', index=False)\n",
    "results.head()"
   ]
  }
 ],
 "metadata": {
  "kernelspec": {
   "display_name": "Python 3",
   "language": "python",
   "name": "python3"
  },
  "language_info": {
   "codemirror_mode": {
    "name": "ipython",
    "version": 3
   },
   "file_extension": ".py",
   "mimetype": "text/x-python",
   "name": "python",
   "nbconvert_exporter": "python",
   "pygments_lexer": "ipython3",
   "version": "3.6.4"
  }
 },
 "nbformat": 4,
 "nbformat_minor": 2
}
